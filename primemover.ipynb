{
 "cells": [
  {
   "cell_type": "code",
   "execution_count": null,
   "metadata": {},
   "outputs": [],
   "source": []
  },
  {
   "cell_type": "code",
   "execution_count": 35,
   "metadata": {},
   "outputs": [],
   "source": [
    "import pint\n",
    "from pint import UnitRegistry\n",
    "ureg=UnitRegistry()\n"
   ]
  },
  {
   "cell_type": "code",
   "execution_count": 42,
   "metadata": {},
   "outputs": [
    {
     "name": "stdout",
     "output_type": "stream",
     "text": [
      "22058.823529411766\n",
      "9.803921568627452\n",
      "56127132.35294118\n",
      "18062.3219\n"
     ]
    }
   ],
   "source": [
    "#bottomohole pressure in psi\n",
    "P=9000\n",
    "#Rate of pumping barrels per minute\n",
    "Q=90\n",
    "#Horsepower\n",
    "etta=0.9 # pump efficiency \n",
    "HHP=(P*Q)/(40.8*etta)\n",
    "print(HHP)\n",
    "# Number of pumps estimate\n",
    "numberofpumps=HHP/2250\n",
    "print(numberofpumps)\n",
    "#Horesepower/hr to BTU - conversion factor ||1 horsepower (hp) = 2,544.43 btu per hour (btu/h)||\n",
    "BTUhr=HHP*2544.43\n",
    "print(BTUhr)\n",
    "#CO2 Factors \n",
    "#Diesel conversion. factor CO2 =10.21 kg/gal, CH4 0.2 g/gal, 0.47 g - gal - source EPA table. https://www.epa.gov/sites/production/files/2020-04/documents/ghg-emission-factors-hub.pdf\n",
    "#CO2e conversion CH4 - 25. N20 - 298\n",
    "#Diesel LHV 12425 btu/lb; Diesel density 3.202 kg/gal; https://www.engineeringtoolbox.com/fuels-higher-calorific-values-d_169.html\n",
    "diesel_density=3.202\n",
    "Diesel_LHVbtupergal=12425*0.454*diesel_density\n",
    "print(Diesel_LHVbtupergal)\n",
    "\n",
    "Diesel_LHVbtupergal = 137381 #temporary substituting with the source \n",
    "#https://www.eia.gov/energyexplained/units-and-calculators/british-thermal-units.php\n",
    "\n",
    "\n",
    "\n",
    "\n"
   ]
  },
  {
   "cell_type": "code",
   "execution_count": 50,
   "metadata": {},
   "outputs": [
    {
     "name": "stdout",
     "output_type": "stream",
     "text": [
      "408.55090844397097\n",
      "4171.304775212944\n",
      "2.0427545422198548\n",
      "57.22164023666257\n",
      "4230.569169991827\n"
     ]
    }
   ],
   "source": [
    "V_fuel_hr=BTUhr/Diesel_LHVbtupergal\n",
    "print(V_fuel_hr)\n",
    "#Convert to CO2e\n",
    "pm_CO2=V_fuel_hr*10.21\n",
    "print (pm_CO2)\n",
    "pm_CH4E=V_fuel_hr*0.2/1000*25\n",
    "print (pm_CH4E)\n",
    "pm_N2OE=V_fuel_hr*0.47/1000*298\n",
    "print (pm_N2OE)\n",
    "pm_CO2E=pm_CO2+pm_CH4E+pm_N2OE\n",
    "print(pm_CO2E) # CO2e in kg"
   ]
  },
  {
   "cell_type": "code",
   "execution_count": 44,
   "metadata": {},
   "outputs": [],
   "source": [
    "#GENERAL FRAC INPUTS - PRIME MOVERS| PUMPS BELNDERS ETC\n",
    "frac_type=\"conv\"# [conv, zip, sim]\n",
    "num_stage = 50 #[30, 150]\n",
    "stage_time = 120 #[60,240]min\n",
    "prime_mover_fuel=\"dis\" #[dis, cng, lng, elect]\t\n",
    "fuel_fraction_dis=100 #[0,100]\tper\n",
    "fuel_fraction_cng=0  #[0,100]\tper\n",
    "fuel_fraction_lng=0 #[0,100]\tper\n",
    "fuel_fraction_elect=0 #[0,100]\tper\n",
    "TBS=120 #[60, 240]\tmin\n"
   ]
  },
  {
   "cell_type": "code",
   "execution_count": 45,
   "metadata": {},
   "outputs": [
    {
     "name": "stdout",
     "output_type": "stream",
     "text": [
      "417130.47752129444\n",
      "417.13047752129444\n"
     ]
    }
   ],
   "source": [
    "total_pm_CO2=pm_CO2*stage_time/60*num_stage #assuming pumps are not running in TBS\n",
    "print (total_pm_CO2)\n",
    "total_pm_CO2*ureg.kg\n",
    "print (total_pm_CO2/1000)"
   ]
  },
  {
   "cell_type": "code",
   "execution_count": 46,
   "metadata": {},
   "outputs": [
    {
     "name": "stdout",
     "output_type": "stream",
     "text": [
      "635.1304775212944\n"
     ]
    }
   ],
   "source": [
    "#total COD from transportation and PM \n",
    "totalCO2_EST= total_pm_CO2/1000+6+2+210\n",
    "print(totalCO2_EST)"
   ]
  },
  {
   "cell_type": "code",
   "execution_count": null,
   "metadata": {},
   "outputs": [],
   "source": []
  }
 ],
 "metadata": {
  "kernelspec": {
   "display_name": "Python 3",
   "language": "python",
   "name": "python3"
  },
  "language_info": {
   "codemirror_mode": {
    "name": "ipython",
    "version": 3
   },
   "file_extension": ".py",
   "mimetype": "text/x-python",
   "name": "python",
   "nbconvert_exporter": "python",
   "pygments_lexer": "ipython3",
   "version": "3.7.1"
  }
 },
 "nbformat": 4,
 "nbformat_minor": 4
}
