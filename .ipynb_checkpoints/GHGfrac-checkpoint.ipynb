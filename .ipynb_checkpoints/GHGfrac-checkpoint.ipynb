{
 "cells": [
  {
   "cell_type": "code",
   "execution_count": 3,
   "metadata": {},
   "outputs": [
    {
     "name": "stdout",
     "output_type": "stream",
     "text": [
      "Requirement already satisfied: pint in /Library/Frameworks/Python.framework/Versions/3.7/lib/python3.7/site-packages (0.16.1)\n",
      "Requirement already satisfied: packaging in /Library/Frameworks/Python.framework/Versions/3.7/lib/python3.7/site-packages (from pint) (20.4)\n",
      "Requirement already satisfied: importlib-metadata; python_version < \"3.8\" in /Library/Frameworks/Python.framework/Versions/3.7/lib/python3.7/site-packages (from pint) (1.7.0)\n",
      "Requirement already satisfied: pyparsing>=2.0.2 in /Library/Frameworks/Python.framework/Versions/3.7/lib/python3.7/site-packages (from packaging->pint) (2.4.7)\n",
      "Requirement already satisfied: six in /Library/Frameworks/Python.framework/Versions/3.7/lib/python3.7/site-packages (from packaging->pint) (1.15.0)\n",
      "Requirement already satisfied: zipp>=0.5 in /Library/Frameworks/Python.framework/Versions/3.7/lib/python3.7/site-packages (from importlib-metadata; python_version < \"3.8\"->pint) (3.1.0)\n"
     ]
    },
    {
     "name": "stderr",
     "output_type": "stream",
     "text": [
      "WARNING: You are using pip version 20.2.3; however, version 20.3.3 is available.\n",
      "You should consider upgrading via the '/Library/Frameworks/Python.framework/Versions/3.7/bin/python3 -m pip install --upgrade pip' command.\n"
     ]
    }
   ],
   "source": [
    "%%bash\n",
    "pip install pint \n"
   ]
  },
  {
   "cell_type": "code",
   "execution_count": 47,
   "metadata": {},
   "outputs": [],
   "source": [
    "import pint\n",
    "import primemover\n",
    "from pint import UnitRegistry\n",
    "ureg=UnitRegistry()\n"
   ]
  },
  {
   "cell_type": "code",
   "execution_count": 75,
   "metadata": {},
   "outputs": [
    {
     "name": "stdout",
     "output_type": "stream",
     "text": [
      "22058.823529411766\n",
      "56127132.35294118\n"
     ]
    }
   ],
   "source": [
    "#_________________________________________TREATMENT_DESIGN_INPUTS_________________________________________________________________________\n",
    "\n",
    "#GENERAL FRAC INPUTS - PRIME MOVERS| PUMPS BELNDERS ETC\n",
    "frac_type=\"conv\"# [conv, zip, sim]\n",
    "num_stage = 50 #[30, 150]\n",
    "stage_time = 120 #[60,240]min\n",
    "prime_mover_fuel=\"dis\" #[dis, cng, lng, elect]\t\n",
    "fuel_fraction_dis=100 #[0,100]\tper\n",
    "fuel_fraction_cng=0  #[0,100]\tper\n",
    "fuel_fraction_lng=0 #[0,100]\tper\n",
    "fuel_fraction_elect=0 #[0,100]\tper\n",
    "TBS=120 #[60, 240]\tmin\n",
    "\n",
    "#TREATEMENT DATA IMNPUTS\n",
    "P=9000 #bottomohole pressure in psi\n",
    "Q=90 #Rate of pumping barrels per minute#Horsepower\n",
    "etta=0.9 # pump efficiency \n",
    "HHP=(P*Q)/(40.8*etta)\n",
    "print(HHP)\n",
    "numberofpumps=HHP/2250 #Number of pumps estimate\n",
    "\n",
    "#SAND DESIGN \n",
    "water = 430000 # gal [100000, 1000000]\n",
    "cfr=2.5  #kg/gal\n",
    "\n",
    "#SAND DESIGN \n",
    "prop_per_stage=20 # range [10, 1000]\tton\n",
    "prop_den =3.0 #[2,4]\tton/m3\n",
    "prop_capacity = 1000 #[0, 2000]\tton\n",
    "prop_sys_used=\"silo\" #[silo, box, bunker]\t\n",
    "prop_type=\"sand\" #[sand, ceramics, resine, bauaxite]\t\n",
    "prop_footprint=0.24 # [0, 0.5]\ttonCO2/ton_propant has to be replaced or assumed by contractor\n",
    "\n",
    "\n",
    "# TRANSPORTATION FUEL CALCULATION \n",
    "transp_fuel=\"dis\" #[dis, cng, lng, gasoline, elect]\n",
    "t_fuel_fraction_dis=100 #[0,100]\tper\n",
    "t_fuel_fraction_cng=0  #[0,100]\tper\n",
    "t_fuel_fraction_lng=0 #[0,100]\tper\n",
    "t_fuel_fraction_elect=0 #[0,100]\tper\n",
    "dist_to_water= 70 #\t[0, 200]\tmiles # used in case of trucking the water \n",
    "dist_to_sand= 70  #\t[0, 200]\tmiles # used in case of trucking the sand\n",
    "dist_to_fuel= 70  #\t[0, 200]\tmiles # used in case of trucking the sand\n",
    "\n",
    "#EMISSSION CONSTANTS\n",
    "\n",
    "# Fuel constants\n",
    "CO2=10.21 #kg/gal \n",
    "CH4E=0.2/1000*25 #kg/gal\n",
    "N2OE=0.47/1000*298 #kg/gal\n",
    "\n",
    "heavy_truck_consumption_dis = 10 # 5-20 mpg user input based on fleet year\n",
    "med_truck_consumption=14 # 10-25 mpg\n",
    "\n",
    "Diesel_LHVbtupergal = 137381 #temporary substituting with the source \n",
    "#https://www.eia.gov/energyexplained/units-and-calculators/british-thermal-units.php\n",
    "#Horesepower/hr to BTU - conversion factor ||1 horsepower (hp) = 2,544.43 btu per hour (btu/h)||\n",
    "BTUhr=HHP*2544.43\n",
    "print(BTUhr)\n",
    "#CO2 Factors \n",
    "#Diesel conversion. factor CO2 =10.21 kg/gal, CH4 0.2 g/gal, 0.47 g - gal - source EPA table. https://www.epa.gov/sites/production/files/2020-04/documents/ghg-emission-factors-hub.pdf\n",
    "#CO2e conversion CH4 - 25. N20 - 298\n",
    "#Diesel LHV 12425 btu/lb; Diesel density 3.202 kg/gal; https://www.engineeringtoolbox.com/fuels-higher-calorific-values-d_169.html\n"
   ]
  },
  {
   "cell_type": "code",
   "execution_count": 77,
   "metadata": {},
   "outputs": [
    {
     "name": "stdout",
     "output_type": "stream",
     "text": [
      "408.55090844397097\n",
      "4230.569169991827\n",
      "417130.47752129444\n",
      "417.13047752129444\n"
     ]
    }
   ],
   "source": [
    "#_________________________________PRIME______________________________MOVER____________________________________________\n",
    "\n",
    "V_fuel_hr=BTUhr/Diesel_LHVbtupergal# Fuel consumption per hour\n",
    "V_fuel_hr=V_fuel_hr\n",
    "print(V_fuel_hr)\n",
    "\n",
    "#Convert to CO2e\n",
    "pm_CO2=V_fuel_hr*CO2\n",
    "pm_CH4E=V_fuel_hr*CH4E\n",
    "pm_N2OE=V_fuel_hr*N2OE\n",
    "pm_CO2E=pm_CO2+pm_CH4E+pm_N2OE\n",
    "print(pm_CO2E) # CO2e in kg\n",
    "\n",
    "total_pm_CO2=pm_CO2*stage_time/60*num_stage #assuming pumps are not running in TBS\n",
    "print (total_pm_CO2)\n",
    "total_pm_CO2*ureg.kg\n",
    "print (total_pm_CO2/1000)"
   ]
  },
  {
   "cell_type": "code",
   "execution_count": 78,
   "metadata": {},
   "outputs": [
    {
     "name": "stdout",
     "output_type": "stream",
     "text": [
      "6662.741462857143\n"
     ]
    }
   ],
   "source": [
    "#Transportation classes: Sand, Water, Fuel, Mob-Demob, \n",
    "sand_load=24 # sand load in metric tonns\n",
    "water_load=20 # M3 of water load in case of land by truck transportation\n",
    "fuel_load=10 # M3 in case of of land by track transportation and immediate distribution\n",
    "\n",
    "#Mob Demob\n",
    "t_pumps = 18 # Input that needs to match with first module\n",
    "t_tanks = 25 # number of trucks to travel to location\n",
    "t_blender=1\n",
    "t_pcm=1\n",
    "t_silos=4\n",
    "t_iron =3\n",
    "t_missle =2\n",
    "t_LAS = 2\n",
    "t_crane =1\n",
    "t_wlu=1\n",
    "t_commandunit=1\n",
    "t_pickup=10\n",
    "t_aux=20\n",
    "\n",
    "mob_distance= 80 #[1,500] generalized variable, \n",
    "#It is very well might be that the mobilization units will be different for each of the pieces of the equipment\n",
    "\n",
    "# TRANSPORTATION FUEL CALCULATION \n",
    "#Mobilization - DIESEL simplified model \n",
    "\n",
    "Mob_volFuel=(t_pumps+t_tanks+t_blender+t_pcm+t_silos+t_iron+t_missle+t_LAS+t_crane+t_wlu+t_commandunit)*mob_distance/heavy_truck_consumption_dis\n",
    "Mob_volFuel=Mob_volFuel+(t_pickup+t_aux)*mob_distance/med_truck_consumption\n",
    "#Simplified model includes all pieces of the equipment as heavy trucks from the mobilization purposes, \n",
    "#pickups and auxilarry equipment - all as diesel and medium trucks. \n",
    "\n",
    "Mob_CO2e=Mob_volFuel*CO2+Mob_volFuel*CH4E+Mob_volFuel*N2OE # Estimate of KG CO2e \n",
    "\n",
    "print (Mob_CO2e)\n",
    "\n"
   ]
  },
  {
   "cell_type": "code",
   "execution_count": 80,
   "metadata": {},
   "outputs": [
    {
     "name": "stdout",
     "output_type": "stream",
     "text": [
      "41.666666666666664\n",
      "2157.304166666667\n"
     ]
    }
   ],
   "source": [
    "# Sand total emissions for transportation assuming all the trucks are doing transportation on diesel\n",
    "sand_number_of_loads=prop_per_stage*num_stage/sand_load\n",
    "print (sand_number_of_loads)\n",
    "sand_fuel=sand_number_of_loads*dist_to_sand/med_truck_consumption # assumption of a average truck consumption 14 mpg\n",
    "sand_CO2e=sand_fuel*CO2+sand_fuel*CH4E+sand_fuel*N2OE\n",
    "print(sand_CO2e)"
   ]
  },
  {
   "cell_type": "code",
   "execution_count": 83,
   "metadata": {},
   "outputs": [
    {
     "name": "stdout",
     "output_type": "stream",
     "text": [
      "4069.31575\n",
      "210690.04375097508\n"
     ]
    }
   ],
   "source": [
    "# Water total emissions for transportation assuming all the trucks are doing transportation on diesel\n",
    "# note only valid if water not locally sourced from in a pit.\n",
    "water_number_of_loads=water*0.00378541*num_stage/water_load # coefficient is to transfer galons to m3\n",
    "print(water_number_of_loads)\n",
    "water_fuel=water_number_of_loads*dist_to_sand/med_truck_consumption # assumption of a average truck consumption 14 mpg\n",
    "water_CO2e=water_fuel*CO2+water_fuel*CH4E+water_fuel*N2OE\n",
    "water_CO2e=water_CO2e\n",
    "print(water_CO2e)\n"
   ]
  },
  {
   "cell_type": "code",
   "execution_count": 85,
   "metadata": {},
   "outputs": [
    {
     "name": "stdout",
     "output_type": "stream",
     "text": [
      "15.465326943328922\n",
      "800.7219420889381\n"
     ]
    }
   ],
   "source": [
    "# Fuel transport missions for transportation assuming all the trucks are doing transportation on diesel\n",
    "\n",
    "fuel_number_of_loads=V_fuel_hr*0.00378541*stage_time/60*num_stage /fuel_load\n",
    "print(fuel_number_of_loads)\n",
    "fuel_fuel=fuel_number_of_loads*dist_to_sand/med_truck_consumption # assumption of a average truck consumption 14 mpg\n",
    "fuel_CO2e=fuel_fuel*CO2+fuel_fuel*CH4E+fuel_fuel*N2OE\n",
    "fuel_CO2e=fuel_CO2e\n",
    "print(fuel_CO2e)\n",
    "\n"
   ]
  },
  {
   "cell_type": "code",
   "execution_count": 86,
   "metadata": {},
   "outputs": [
    {
     "name": "stdout",
     "output_type": "stream",
     "text": [
      "637441.2888438823\n"
     ]
    }
   ],
   "source": [
    "TotalCO2e=total_pm_CO2+water_CO2e+sand_CO2e+Mob_CO2e+fuel_CO2e\n",
    "print(TotalCO2e)"
   ]
  },
  {
   "cell_type": "code",
   "execution_count": null,
   "metadata": {},
   "outputs": [],
   "source": []
  }
 ],
 "metadata": {
  "kernelspec": {
   "display_name": "Python 3",
   "language": "python",
   "name": "python3"
  },
  "language_info": {
   "codemirror_mode": {
    "name": "ipython",
    "version": 3
   },
   "file_extension": ".py",
   "mimetype": "text/x-python",
   "name": "python",
   "nbconvert_exporter": "python",
   "pygments_lexer": "ipython3",
   "version": "3.7.1"
  }
 },
 "nbformat": 4,
 "nbformat_minor": 4
}
