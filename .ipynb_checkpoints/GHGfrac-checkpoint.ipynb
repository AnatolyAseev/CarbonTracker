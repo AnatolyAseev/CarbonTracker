{
 "cells": [
  {
   "cell_type": "code",
   "execution_count": null,
   "metadata": {},
   "outputs": [],
   "source": []
  },
  {
   "cell_type": "code",
   "execution_count": 2,
   "metadata": {},
   "outputs": [],
   "source": [
    "import pint\n"
   ]
  },
  {
   "cell_type": "code",
   "execution_count": 4,
   "metadata": {},
   "outputs": [
    {
     "data": {
      "text/plain": [
       "87631.8281938326"
      ]
     },
     "execution_count": 4,
     "metadata": {},
     "output_type": "execute_result"
    }
   ],
   "source": [
    "#bottomohole pressure in psi\n",
    "P=9000\n",
    "#Rate of pumping barrels per minute\n",
    "Q=40\n",
    "#Horsepower\n",
    "HHP=(P*Q)/40.8\n",
    "#Horesepower/hr to BTU - conversion factor ||1 horsepower (hp) = 2,544.43 btu per hour (btu/h)||\n",
    "BTUhr=HHP/2544.43\n",
    "\n",
    "#CO2 Factors \n",
    "#Diesel conversion. factor CO2 =10.21 kg/gal, CH4 0.2 g/gal, 0.47 g - gal - source EPA table. https://www.epa.gov/sites/production/files/2020-04/documents/ghg-emission-factors-hub.pdf\n",
    "#CO2e conversion CH4 - 25. N20 - 298\n",
    "#Diesel LHV 12425 btu/lb; Diesel density 3.202 kg/gal; https://www.engineeringtoolbox.com/fuels-higher-calorific-values-d_169.html\n",
    "diesel_density=3.202\n",
    "Diesel_LHVbtupergal=12425/0.454*diesel_density\n",
    "\n",
    "Diesel_LHVbtupergal\n",
    "\n",
    "\n",
    "\n",
    "\n",
    "\n",
    "\n"
   ]
  },
  {
   "cell_type": "code",
   "execution_count": 1,
   "metadata": {},
   "outputs": [
    {
     "ename": "NameError",
     "evalue": "name 'BTUhr' is not defined",
     "output_type": "error",
     "traceback": [
      "\u001b[0;31m---------------------------------------------------------------------------\u001b[0m",
      "\u001b[0;31mNameError\u001b[0m                                 Traceback (most recent call last)",
      "\u001b[0;32m<ipython-input-1-d581d1e6107e>\u001b[0m in \u001b[0;36m<module>\u001b[0;34m\u001b[0m\n\u001b[0;32m----> 1\u001b[0;31m \u001b[0mV_fuel_hr\u001b[0m\u001b[0;34m=\u001b[0m\u001b[0mBTUhr\u001b[0m\u001b[0;34m*\u001b[0m\u001b[0mDiesel_LHVbtupergal\u001b[0m\u001b[0;34m\u001b[0m\u001b[0;34m\u001b[0m\u001b[0m\n\u001b[0m\u001b[1;32m      2\u001b[0m \u001b[0mprint\u001b[0m\u001b[0;34m(\u001b[0m\u001b[0mV_fuel_hr\u001b[0m\u001b[0;34m)\u001b[0m\u001b[0;34m\u001b[0m\u001b[0;34m\u001b[0m\u001b[0m\n\u001b[1;32m      3\u001b[0m \u001b[0;31m#Convert to CO2e\u001b[0m\u001b[0;34m\u001b[0m\u001b[0;34m\u001b[0m\u001b[0;34m\u001b[0m\u001b[0m\n\u001b[1;32m      4\u001b[0m \u001b[0mCO2\u001b[0m\u001b[0;34m=\u001b[0m\u001b[0mV_fuel_hr\u001b[0m\u001b[0;34m*\u001b[0m\u001b[0;36m10.21\u001b[0m\u001b[0;34m\u001b[0m\u001b[0;34m\u001b[0m\u001b[0m\n\u001b[1;32m      5\u001b[0m \u001b[0mCH4E\u001b[0m\u001b[0;34m=\u001b[0m\u001b[0mV_fuel_hr\u001b[0m\u001b[0;34m*\u001b[0m\u001b[0;36m0.2\u001b[0m\u001b[0;34m/\u001b[0m\u001b[0;36m1000\u001b[0m\u001b[0;34m*\u001b[0m\u001b[0;36m25\u001b[0m\u001b[0;34m\u001b[0m\u001b[0;34m\u001b[0m\u001b[0m\n",
      "\u001b[0;31mNameError\u001b[0m: name 'BTUhr' is not defined"
     ]
    }
   ],
   "source": [
    "V_fuel_hr=BTUhr*Diesel_LHVbtupergal\n",
    "print(V_fuel_hr)\n",
    "#Convert to CO2e\n",
    "CO2=V_fuel_hr*10.21\n",
    "CH4E=V_fuel_hr*0.2/1000*25\n",
    "N2OE=V_fuel_hr*0.47/1000*298\n",
    "CO2E=CO2+CH4E+N2OE\n",
    "\n",
    "CO2E"
   ]
  },
  {
   "cell_type": "code",
   "execution_count": 16,
   "metadata": {},
   "outputs": [
    {
     "data": {
      "text/plain": [
       "0.00039301533152808296"
      ]
     },
     "execution_count": 16,
     "metadata": {},
     "output_type": "execute_result"
    }
   ],
   "source": [
    "1/2544.43"
   ]
  },
  {
   "cell_type": "code",
   "execution_count": null,
   "metadata": {},
   "outputs": [],
   "source": []
  }
 ],
 "metadata": {
  "kernelspec": {
   "display_name": "Python 3",
   "language": "python",
   "name": "python3"
  },
  "language_info": {
   "codemirror_mode": {
    "name": "ipython",
    "version": 3
   },
   "file_extension": ".py",
   "mimetype": "text/x-python",
   "name": "python",
   "nbconvert_exporter": "python",
   "pygments_lexer": "ipython3",
   "version": "3.7.1"
  }
 },
 "nbformat": 4,
 "nbformat_minor": 4
}
